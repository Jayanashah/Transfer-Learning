{
 "cells": [
  {
   "cell_type": "code",
   "execution_count": 2,
   "metadata": {},
   "outputs": [
    {
     "name": "stdout",
     "output_type": "stream",
     "text": [
      "Intel MKL WARNING: Support of Intel(R) Streaming SIMD Extensions 4.2 (Intel(R) SSE4.2) enabled only processors has been deprecated. Intel oneAPI Math Kernel Library 2025.0 will require Intel(R) Advanced Vector Extensions (Intel(R) AVX) instructions.\n",
      "Intel MKL WARNING: Support of Intel(R) Streaming SIMD Extensions 4.2 (Intel(R) SSE4.2) enabled only processors has been deprecated. Intel oneAPI Math Kernel Library 2025.0 will require Intel(R) Advanced Vector Extensions (Intel(R) AVX) instructions.\n"
     ]
    }
   ],
   "source": [
    "import numpy as np\n",
    "import mne"
   ]
  },
  {
   "cell_type": "markdown",
   "metadata": {},
   "source": [
    "### Filter specifics when using default accoridng to https://mne.tools/stable/generated/mne.io.Raw.html#mne.io.Raw.filter"
   ]
  },
  {
   "cell_type": "code",
   "execution_count": 3,
   "metadata": {},
   "outputs": [],
   "source": [
    "sfreq = 125\n",
    "h_freq = 32.0\n",
    "l_freq = 1.0"
   ]
  },
  {
   "cell_type": "code",
   "execution_count": 4,
   "metadata": {},
   "outputs": [],
   "source": [
    "def h_trans_bandwidth(h_freq, sfreq):\n",
    "    return min(max(h_freq * 0.25, 2.), sfreq / 2. - h_freq)"
   ]
  },
  {
   "cell_type": "code",
   "execution_count": 5,
   "metadata": {},
   "outputs": [],
   "source": [
    "def l_trans_bandwidth(l_freq):\n",
    "    return min(max(l_freq * 0.25, 2), l_freq)"
   ]
  },
  {
   "cell_type": "code",
   "execution_count": 10,
   "metadata": {},
   "outputs": [],
   "source": [
    "def filter_length(trans_bandwidth):\n",
    "    return 3.3 * (1/trans_bandwidth)"
   ]
  },
  {
   "cell_type": "markdown",
   "metadata": {},
   "source": [
    "### Default FIR Highpass filter Hamming window 1Hz"
   ]
  },
  {
   "cell_type": "code",
   "execution_count": 7,
   "metadata": {},
   "outputs": [
    {
     "name": "stdout",
     "output_type": "stream",
     "text": [
      "No data specified. Sanity checks related to the length of the signal relative to the filter order will be skipped.\n",
      "Setting up high-pass filter at 1 Hz\n",
      "\n",
      "FIR filter parameters\n",
      "---------------------\n",
      "Designing a one-pass, zero-phase, non-causal highpass filter:\n",
      "- Windowed time-domain design (firwin) method\n",
      "- Hamming window with 0.0194 passband ripple and 53 dB stopband attenuation\n",
      "- Lower passband edge: 1.00\n",
      "- Lower transition bandwidth: 1.00 Hz (-6 dB cutoff frequency: 0.50 Hz)\n",
      "- Filter length: 413 samples (3.304 s)\n",
      "\n"
     ]
    }
   ],
   "source": [
    "fir_coefs = mne.filter.create_filter(\n",
    "    data=None,  # data is only used for sanity checking, not strictly needed\n",
    "    sfreq=125,  # sfreq of your data in Hz\n",
    "    l_freq=1,\n",
    "    h_freq=None,\n",
    "    method=\"fir\",\n",
    "    fir_window=\"hamming\",\n",
    "    fir_design=\"firwin\",\n",
    "    verbose=True,\n",
    ")\n",
    "\n",
    "# See the printed log for the transition bandwidth and filter length.\n",
    "# Alternatively, get the filter length through:\n",
    "filter_length = fir_coefs.shape[0]"
   ]
  },
  {
   "cell_type": "code",
   "execution_count": 8,
   "metadata": {},
   "outputs": [
    {
     "data": {
      "text/plain": [
       "1.0"
      ]
     },
     "execution_count": 8,
     "metadata": {},
     "output_type": "execute_result"
    }
   ],
   "source": [
    "low_trans_bandwidth = l_trans_bandwidth(l_freq)\n",
    "low_trans_bandwidth"
   ]
  },
  {
   "cell_type": "code",
   "execution_count": 11,
   "metadata": {},
   "outputs": [
    {
     "name": "stdout",
     "output_type": "stream",
     "text": [
      "Highpass Filter:\n",
      "Filter order: 411.0\n",
      "Estimated introduced delay: 1.646s\n"
     ]
    }
   ],
   "source": [
    "high_filter_length = filter_length(low_trans_bandwidth) *125\n",
    "high_filter_order = high_filter_length - 1.0\n",
    "print('Highpass Filter:')\n",
    "print(f'Filter order: {np.floor(high_filter_order)}')\n",
    "print(f'Estimated introduced delay: {high_filter_order / (2 * sfreq)}s')"
   ]
  },
  {
   "cell_type": "code",
   "execution_count": null,
   "metadata": {},
   "outputs": [
    {
     "data": {
      "text/plain": [
       "411.5"
      ]
     },
     "execution_count": 78,
     "metadata": {},
     "output_type": "execute_result"
    }
   ],
   "source": [
    "high_filter_length - 1.0"
   ]
  },
  {
   "cell_type": "code",
   "execution_count": null,
   "metadata": {},
   "outputs": [
    {
     "data": {
      "text/plain": [
       "0.0528"
      ]
     },
     "execution_count": 36,
     "metadata": {},
     "output_type": "execute_result"
    }
   ],
   "source": [
    "high_filter_length"
   ]
  },
  {
   "cell_type": "markdown",
   "metadata": {},
   "source": [
    "### Default FIR Lowpass filter Hamming window 32Hz"
   ]
  },
  {
   "cell_type": "code",
   "execution_count": null,
   "metadata": {},
   "outputs": [
    {
     "name": "stdout",
     "output_type": "stream",
     "text": [
      "Lowpass Filter:\n",
      "Filter order: 412.0\n",
      "Estimated introduced delay: 0.20575s\n"
     ]
    }
   ],
   "source": [
    "high_trans_bandwidth = h_trans_bandwidth(h_freq, sfreq)\n",
    "low_filter_length = filter_length(high_trans_bandwidth) * 1000\n",
    "low_filter_order = low_filter_length -1\n",
    "print(f'Lowpass Filter:')\n",
    "print(f'Filter order: {np.round(low_filter_order)}')\n",
    "print(f'Estimated introduced delay: {low_filter_order / (2 * 1000)}s')"
   ]
  },
  {
   "cell_type": "code",
   "execution_count": null,
   "metadata": {},
   "outputs": [
    {
     "name": "stdout",
     "output_type": "stream",
     "text": [
      "No data specified. Sanity checks related to the length of the signal relative to the filter order will be skipped.\n",
      "Setting up low-pass filter at 32 Hz\n",
      "\n",
      "FIR filter parameters\n",
      "---------------------\n",
      "Designing a one-pass, zero-phase, non-causal lowpass filter:\n",
      "- Windowed time-domain design (firwin) method\n",
      "- Hamming window with 0.0194 passband ripple and 53 dB stopband attenuation\n",
      "- Upper passband edge: 32.00 Hz\n",
      "- Upper transition bandwidth: 8.00 Hz (-6 dB cutoff frequency: 36.00 Hz)\n",
      "- Filter length: 413 samples (0.413 s)\n",
      "\n"
     ]
    }
   ],
   "source": [
    "fir_coefs = mne.filter.create_filter(\n",
    "    data=None,  # data is only used for sanity checking, not strictly needed\n",
    "    sfreq=1000,  # sfreq of your data in Hz\n",
    "    l_freq=None,\n",
    "    h_freq=32.0,  # assuming a lowpass of 40 Hz\n",
    "    method=\"fir\",\n",
    "    fir_window=\"hamming\",\n",
    "    fir_design=\"firwin\",\n",
    "    verbose=True,\n",
    ")\n",
    "\n",
    "# See the printed log for the transition bandwidth and filter length.\n",
    "# Alternatively, get the filter length through:\n",
    "filter_length = fir_coefs.shape[0]"
   ]
  },
  {
   "cell_type": "markdown",
   "metadata": {},
   "source": [
    "# Envelope"
   ]
  },
  {
   "cell_type": "code",
   "execution_count": 12,
   "metadata": {},
   "outputs": [
    {
     "name": "stdout",
     "output_type": "stream",
     "text": [
      "No data specified. Sanity checks related to the length of the signal relative to the filter order will be skipped.\n",
      "Setting up low-pass filter at 50 Hz\n",
      "\n",
      "FIR filter parameters\n",
      "---------------------\n",
      "Designing a one-pass, zero-phase, non-causal lowpass filter:\n",
      "- Windowed time-domain design (firwin) method\n",
      "- Hamming window with 0.0194 passband ripple and 53 dB stopband attenuation\n",
      "- Upper passband edge: 50.00 Hz\n",
      "- Upper transition bandwidth: 12.50 Hz (-6 dB cutoff frequency: 56.25 Hz)\n",
      "- Filter length: 265 samples (0.265 s)\n",
      "\n"
     ]
    }
   ],
   "source": [
    "fir_coefs = mne.filter.create_filter(\n",
    "    data=None,  # data is only used for sanity checking, not strictly needed\n",
    "    sfreq=1000,  # sfreq of your data in Hz\n",
    "    l_freq=None,\n",
    "    h_freq=50.0,  # assuming a lowpass of 40 Hz\n",
    "    method=\"fir\",\n",
    "    fir_window=\"hamming\",\n",
    "    fir_design=\"firwin\",\n",
    "    verbose=True,\n",
    ")\n",
    "filter_length = fir_coefs.shape[0]"
   ]
  },
  {
   "cell_type": "code",
   "execution_count": null,
   "metadata": {},
   "outputs": [],
   "source": []
  }
 ],
 "metadata": {
  "kernelspec": {
   "display_name": "model_dev_aad_semeco",
   "language": "python",
   "name": "python3"
  },
  "language_info": {
   "codemirror_mode": {
    "name": "ipython",
    "version": 3
   },
   "file_extension": ".py",
   "mimetype": "text/x-python",
   "name": "python",
   "nbconvert_exporter": "python",
   "pygments_lexer": "ipython3",
   "version": "3.11.4"
  }
 },
 "nbformat": 4,
 "nbformat_minor": 2
}
