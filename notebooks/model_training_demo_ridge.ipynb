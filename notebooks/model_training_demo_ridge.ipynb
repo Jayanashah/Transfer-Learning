{
 "cells": [
  {
   "cell_type": "code",
   "execution_count": 1,
   "metadata": {},
   "outputs": [
    {
     "name": "stdout",
     "output_type": "stream",
     "text": [
      "Intel MKL WARNING: Support of Intel(R) Streaming SIMD Extensions 4.2 (Intel(R) SSE4.2) enabled only processors has been deprecated. Intel oneAPI Math Kernel Library 2025.0 will require Intel(R) Advanced Vector Extensions (Intel(R) AVX) instructions.\n",
      "Intel MKL WARNING: Support of Intel(R) Streaming SIMD Extensions 4.2 (Intel(R) SSE4.2) enabled only processors has been deprecated. Intel oneAPI Math Kernel Library 2025.0 will require Intel(R) Advanced Vector Extensions (Intel(R) AVX) instructions.\n"
     ]
    }
   ],
   "source": [
    "import os\n",
    "import git\n",
    "import numpy as np\n",
    "from src.evaluation.eval_vanilla_ridge import RidgeEvaluator"
   ]
  },
  {
   "cell_type": "code",
   "execution_count": 17,
   "metadata": {},
   "outputs": [],
   "source": [
    "data_filename = 'ci_attention_final_l_1,1_h_32,50_out_125_130_incl_ica.hdf5'\n",
    "\n",
    "#convert to list of arrays - needed this way by evaluator class\n",
    "# indices for complete cross-validation\n",
    "test_indices = [np.array([i]) for i in range(8,20)]\n",
    "val_indices = np.roll(np.array(test_indices), 1).reshape(-1).tolist()\n",
    "val_indices = [np.array([i]) for i in val_indices]\n",
    "\n",
    "# just take the first indices for quicker compuation\n",
    "test_indices = test_indices[:1]\n",
    "val_indices = val_indices[:1]"
   ]
  },
  {
   "cell_type": "markdown",
   "metadata": {},
   "source": [
    "# Define some parameters"
   ]
  },
  {
   "cell_type": "code",
   "execution_count": 18,
   "metadata": {},
   "outputs": [],
   "source": [
    "freq_range = '1-32Hz'\n",
    "#considered time lags in milliseconds\n",
    "start_ms = 0\n",
    "end_ms = 800\n",
    "\n",
    "speech_feature = 'env'\n",
    "use_ica = False\n",
    "model_id = '000'\n",
    "\n",
    "# window size to test on\n",
    "window_size = 60"
   ]
  },
  {
   "cell_type": "code",
   "execution_count": 19,
   "metadata": {},
   "outputs": [],
   "source": [
    "# initialize evaluator\n",
    "ridge_evaluator = RidgeEvaluator(start_ms, end_ms, database_filename= data_filename, training_scheme='concat', \n",
    "                                            freq_range= freq_range, use_ica_data=use_ica, speech_feature= speech_feature, \n",
    "                                            model_id=model_id)"
   ]
  },
  {
   "cell_type": "markdown",
   "metadata": {},
   "source": [
    "Most of what is happening is implemented in the RidgeEvaluator class.\n",
    "\n",
    "Have a look there for more details"
   ]
  },
  {
   "cell_type": "code",
   "execution_count": 20,
   "metadata": {},
   "outputs": [
    {
     "name": "stdout",
     "output_type": "stream",
     "text": [
      "fitting entered\n",
      "Checking inputs...\n",
      "Formatting data matrix...\n"
     ]
    },
    {
     "ename": "KeyboardInterrupt",
     "evalue": "",
     "output_type": "error",
     "traceback": [
      "\u001b[0;31m---------------------------------------------------------------------------\u001b[0m",
      "\u001b[0;31mKeyboardInterrupt\u001b[0m                         Traceback (most recent call last)",
      "Cell \u001b[0;32mIn[20], line 1\u001b[0m\n\u001b[0;32m----> 1\u001b[0m \u001b[43mridge_evaluator\u001b[49m\u001b[38;5;241;43m.\u001b[39;49m\u001b[43meval_competing_speaker_cross_val\u001b[49m\u001b[43m(\u001b[49m\u001b[43mval_indices\u001b[49m\u001b[43m,\u001b[49m\u001b[43m \u001b[49m\u001b[43mtest_indices\u001b[49m\u001b[43m,\u001b[49m\u001b[43m \u001b[49m\u001b[43maccuracy_window_size\u001b[49m\u001b[38;5;241;43m=\u001b[39;49m\u001b[43mwindow_size\u001b[49m\u001b[43m)\u001b[49m\n",
      "File \u001b[0;32m~/opt/anaconda3/envs/model_dev_aad_semeco/lib/python3.11/site-packages/src-0.1.0-py3.11.egg/src/evaluation/eval_vanilla_ridge.py:756\u001b[0m, in \u001b[0;36mRidgeEvaluator.eval_competing_speaker_cross_val\u001b[0;34m(self, test_indices_list, val_indices_list, accuracy_window_size, training_scheme)\u001b[0m\n\u001b[1;32m    752\u001b[0m cross_val_att_scores, cross_val_distr_scores, cross_val_acc \u001b[38;5;241m=\u001b[39m [], [], []\n\u001b[1;32m    754\u001b[0m \u001b[38;5;28;01mfor\u001b[39;00m test_indices, val_indices, fold \u001b[38;5;129;01min\u001b[39;00m \u001b[38;5;28mzip\u001b[39m(test_indices_list, val_indices_list, \u001b[38;5;28mrange\u001b[39m(\u001b[38;5;241m1\u001b[39m,\u001b[38;5;28mlen\u001b[39m(test_indices_list)\u001b[38;5;241m+\u001b[39m\u001b[38;5;241m1\u001b[39m)):\n\u001b[0;32m--> 756\u001b[0m     attended_scores, distractor_scores, accuracies \u001b[38;5;241m=\u001b[39m \u001b[38;5;28;43mself\u001b[39;49m\u001b[38;5;241;43m.\u001b[39;49m\u001b[43mrun_model_eval\u001b[49m\u001b[43m(\u001b[49m\u001b[43mval_indices\u001b[49m\u001b[38;5;241;43m=\u001b[39;49m\u001b[43mval_indices\u001b[49m\u001b[43m,\u001b[49m\u001b[43m \u001b[49m\u001b[43mtest_indices\u001b[49m\u001b[38;5;241;43m=\u001b[39;49m\u001b[43mtest_indices\u001b[49m\u001b[43m,\u001b[49m\u001b[43m \u001b[49m\u001b[43maccuracy_window_size\u001b[49m\u001b[38;5;241;43m=\u001b[39;49m\u001b[43maccuracy_window_size\u001b[49m\u001b[43m)\u001b[49m\n\u001b[1;32m    757\u001b[0m     \u001b[38;5;28mself\u001b[39m\u001b[38;5;241m.\u001b[39mplot_attention_scores(attended_scores, distractor_scores, test_indices)\n\u001b[1;32m    758\u001b[0m     \u001b[38;5;28mself\u001b[39m\u001b[38;5;241m.\u001b[39mplot_accuracies(accuracies, test_indices, accuracy_window_size\u001b[38;5;241m=\u001b[39maccuracy_window_size)\n",
      "File \u001b[0;32m~/opt/anaconda3/envs/model_dev_aad_semeco/lib/python3.11/site-packages/src-0.1.0-py3.11.egg/src/evaluation/eval_vanilla_ridge.py:454\u001b[0m, in \u001b[0;36mRidgeEvaluator.run_model_eval\u001b[0;34m(self, val_indices, test_indices, accuracy_window_size)\u001b[0m\n\u001b[1;32m    451\u001b[0m X_train, X_val, X_test, y_train, y_val, y_test, y_competing \u001b[38;5;241m=\u001b[39m \u001b[38;5;28mself\u001b[39m\u001b[38;5;241m.\u001b[39mprepare_training_data(subject, val_indices, test_indices)\n\u001b[1;32m    453\u001b[0m \u001b[38;5;28;01mif\u001b[39;00m \u001b[38;5;28mself\u001b[39m\u001b[38;5;241m.\u001b[39mtraining_scheme \u001b[38;5;241m==\u001b[39m \u001b[38;5;124m'\u001b[39m\u001b[38;5;124mconcat\u001b[39m\u001b[38;5;124m'\u001b[39m:\n\u001b[0;32m--> 454\u001b[0m     \u001b[43mmdl\u001b[49m\u001b[38;5;241;43m.\u001b[39;49m\u001b[43mfit\u001b[49m\u001b[43m(\u001b[49m\u001b[43mX_train\u001b[49m\u001b[38;5;241;43m.\u001b[39;49m\u001b[43mT\u001b[49m\u001b[43m,\u001b[49m\u001b[43m \u001b[49m\u001b[43my_train\u001b[49m\u001b[43m[\u001b[49m\u001b[43m:\u001b[49m\u001b[43m,\u001b[49m\u001b[43mnp\u001b[49m\u001b[38;5;241;43m.\u001b[39;49m\u001b[43mnewaxis\u001b[49m\u001b[43m]\u001b[49m\u001b[43m)\u001b[49m\n\u001b[1;32m    456\u001b[0m \u001b[38;5;28;01melif\u001b[39;00m \u001b[38;5;28mself\u001b[39m\u001b[38;5;241m.\u001b[39mtraining_scheme \u001b[38;5;241m==\u001b[39m \u001b[38;5;124m'\u001b[39m\u001b[38;5;124mwindowed\u001b[39m\u001b[38;5;124m'\u001b[39m:\n\u001b[1;32m    457\u001b[0m     window_len \u001b[38;5;241m=\u001b[39m \u001b[38;5;241m125\u001b[39m \u001b[38;5;241m*\u001b[39m \u001b[38;5;28mself\u001b[39m\u001b[38;5;241m.\u001b[39mtraining_window_length\n",
      "File \u001b[0;32m~/opt/anaconda3/envs/model_dev_aad_semeco/lib/python3.11/site-packages/src-0.1.0-py3.11.egg/src/models/ridge.py:62\u001b[0m, in \u001b[0;36mRidge.fit\u001b[0;34m(self, X, y)\u001b[0m\n\u001b[1;32m     58\u001b[0m lagged_matrix \u001b[38;5;241m=\u001b[39m np\u001b[38;5;241m.\u001b[39mempty((n_times, \u001b[38;5;28mself\u001b[39m\u001b[38;5;241m.\u001b[39mnum_lags, \u001b[38;5;28mself\u001b[39m\u001b[38;5;241m.\u001b[39mn_input_features))\n\u001b[1;32m     60\u001b[0m \u001b[38;5;28;01mfor\u001b[39;00m ipf \u001b[38;5;129;01min\u001b[39;00m \u001b[38;5;28mrange\u001b[39m(\u001b[38;5;28mself\u001b[39m\u001b[38;5;241m.\u001b[39mn_input_features):\n\u001b[1;32m     61\u001b[0m     \u001b[38;5;66;03m#print(self._get_lagged_matrix(X[:, ipf]))\u001b[39;00m\n\u001b[0;32m---> 62\u001b[0m     lagged_matrix[:, :, ipf] \u001b[38;5;241m=\u001b[39m \u001b[38;5;28mself\u001b[39m\u001b[38;5;241m.\u001b[39m_get_lagged_matrix(X[:, ipf])\n\u001b[1;32m     64\u001b[0m lagged_matrix \u001b[38;5;241m=\u001b[39m np\u001b[38;5;241m.\u001b[39mreshape(lagged_matrix, (n_times, \u001b[38;5;28mself\u001b[39m\u001b[38;5;241m.\u001b[39mnum_lags\u001b[38;5;241m*\u001b[39m\u001b[38;5;28mself\u001b[39m\u001b[38;5;241m.\u001b[39mn_input_features))\n\u001b[1;32m     65\u001b[0m XtX \u001b[38;5;241m=\u001b[39m np\u001b[38;5;241m.\u001b[39mdot(lagged_matrix\u001b[38;5;241m.\u001b[39mT, lagged_matrix)\n",
      "\u001b[0;31mKeyboardInterrupt\u001b[0m: "
     ]
    }
   ],
   "source": [
    "ridge_evaluator.eval_competing_speaker_cross_val(val_indices, test_indices, accuracy_window_size=window_size)"
   ]
  },
  {
   "cell_type": "code",
   "execution_count": null,
   "metadata": {},
   "outputs": [],
   "source": []
  }
 ],
 "metadata": {
  "kernelspec": {
   "display_name": "model_dev_aad_semeco",
   "language": "python",
   "name": "python3"
  },
  "language_info": {
   "codemirror_mode": {
    "name": "ipython",
    "version": 3
   },
   "file_extension": ".py",
   "mimetype": "text/x-python",
   "name": "python",
   "nbconvert_exporter": "python",
   "pygments_lexer": "ipython3",
   "version": "3.11.4"
  }
 },
 "nbformat": 4,
 "nbformat_minor": 2
}
